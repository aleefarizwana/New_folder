{
 "cells": [
  {
   "cell_type": "code",
   "execution_count": 1,
   "id": "31284c00",
   "metadata": {
    "_cell_guid": "b1076dfc-b9ad-4769-8c92-a6c4dae69d19",
    "_uuid": "8f2839f25d086af736a60e9eeb907d3b93b6e0e5",
    "execution": {
     "iopub.execute_input": "2023-05-24T17:02:56.710129Z",
     "iopub.status.busy": "2023-05-24T17:02:56.709668Z",
     "iopub.status.idle": "2023-05-24T17:02:56.721331Z",
     "shell.execute_reply": "2023-05-24T17:02:56.720481Z"
    },
    "papermill": {
     "duration": 0.021818,
     "end_time": "2023-05-24T17:02:56.723114",
     "exception": false,
     "start_time": "2023-05-24T17:02:56.701296",
     "status": "completed"
    },
    "tags": []
   },
   "outputs": [],
   "source": [
    "# This Python 3 environment comes with many helpful analytics libraries installed\n",
    "# It is defined by the kaggle/python Docker image: https://github.com/kaggle/docker-python\n",
    "# For example, here's several helpful packages to load\n",
    "\n",
    "import numpy as np # linear algebra\n",
    "import pandas as pd # data processing, CSV file I/O (e.g. pd.read_csv)\n",
    "\n",
    "# Input data files are available in the read-only \"../input/\" directory\n",
    "# For example, running this (by clicking run or pressing Shift+Enter) will list all files under the input directory\n",
    "\n",
    "import os\n",
    "for dirname, _, filenames in os.walk('/kaggle/input'):\n",
    "    for filename in filenames:\n",
    "        print(os.path.join(dirname, filename))\n",
    "\n",
    "# You can write up to 20GB to the current directory (/kaggle/working/) that gets preserved as output when you create a version using \"Save & Run All\" \n",
    "# You can also write temporary files to /kaggle/temp/, but they won't be saved outside of the current session"
   ]
  },
  {
   "cell_type": "code",
   "execution_count": null,
   "id": "9cd74ca0",
   "metadata": {
    "papermill": {
     "duration": 0.005253,
     "end_time": "2023-05-24T17:02:56.732770",
     "exception": false,
     "start_time": "2023-05-24T17:02:56.727517",
     "status": "completed"
    },
    "tags": []
   },
   "outputs": [],
   "source": []
  },
  {
   "cell_type": "code",
   "execution_count": 2,
   "id": "86032be7",
   "metadata": {
    "execution": {
     "iopub.execute_input": "2023-05-24T17:02:56.744300Z",
     "iopub.status.busy": "2023-05-24T17:02:56.743491Z",
     "iopub.status.idle": "2023-05-24T17:02:56.747757Z",
     "shell.execute_reply": "2023-05-24T17:02:56.746788Z"
    },
    "papermill": {
     "duration": 0.011746,
     "end_time": "2023-05-24T17:02:56.750087",
     "exception": false,
     "start_time": "2023-05-24T17:02:56.738341",
     "status": "completed"
    },
    "tags": []
   },
   "outputs": [],
   "source": [
    "import pandas as pd"
   ]
  },
  {
   "cell_type": "markdown",
   "id": "6258db04",
   "metadata": {
    "papermill": {
     "duration": 0.003707,
     "end_time": "2023-05-24T17:02:56.758208",
     "exception": false,
     "start_time": "2023-05-24T17:02:56.754501",
     "status": "completed"
    },
    "tags": []
   },
   "source": [
    "A DataFrame is a table.\n",
    "It contains an array of individual entries, each of which has a certain value. \n",
    "Each entry corresponds to a row (or record) and a column.\n",
    "here pd.DataFrame is a constructor to generate DataFrame objects."
   ]
  },
  {
   "cell_type": "code",
   "execution_count": 3,
   "id": "63757d47",
   "metadata": {
    "execution": {
     "iopub.execute_input": "2023-05-24T17:02:56.768904Z",
     "iopub.status.busy": "2023-05-24T17:02:56.768343Z",
     "iopub.status.idle": "2023-05-24T17:02:56.806889Z",
     "shell.execute_reply": "2023-05-24T17:02:56.805694Z"
    },
    "papermill": {
     "duration": 0.047619,
     "end_time": "2023-05-24T17:02:56.810311",
     "exception": false,
     "start_time": "2023-05-24T17:02:56.762692",
     "status": "completed"
    },
    "tags": []
   },
   "outputs": [
    {
     "data": {
      "text/html": [
       "<div>\n",
       "<style scoped>\n",
       "    .dataframe tbody tr th:only-of-type {\n",
       "        vertical-align: middle;\n",
       "    }\n",
       "\n",
       "    .dataframe tbody tr th {\n",
       "        vertical-align: top;\n",
       "    }\n",
       "\n",
       "    .dataframe thead th {\n",
       "        text-align: right;\n",
       "    }\n",
       "</style>\n",
       "<table border=\"1\" class=\"dataframe\">\n",
       "  <thead>\n",
       "    <tr style=\"text-align: right;\">\n",
       "      <th></th>\n",
       "      <th>name</th>\n",
       "      <th>age</th>\n",
       "    </tr>\n",
       "  </thead>\n",
       "  <tbody>\n",
       "    <tr>\n",
       "      <th>0</th>\n",
       "      <td>aleefa</td>\n",
       "      <td>20</td>\n",
       "    </tr>\n",
       "    <tr>\n",
       "      <th>1</th>\n",
       "      <td>ameena</td>\n",
       "      <td>20</td>\n",
       "    </tr>\n",
       "  </tbody>\n",
       "</table>\n",
       "</div>"
      ],
      "text/plain": [
       "     name  age\n",
       "0  aleefa   20\n",
       "1  ameena   20"
      ]
     },
     "execution_count": 3,
     "metadata": {},
     "output_type": "execute_result"
    }
   ],
   "source": [
    "pd.DataFrame({'name':['aleefa','ameena'],'age':[20,20]})"
   ]
  },
  {
   "cell_type": "code",
   "execution_count": 4,
   "id": "5594da2a",
   "metadata": {
    "execution": {
     "iopub.execute_input": "2023-05-24T17:02:56.825476Z",
     "iopub.status.busy": "2023-05-24T17:02:56.825076Z",
     "iopub.status.idle": "2023-05-24T17:02:56.834833Z",
     "shell.execute_reply": "2023-05-24T17:02:56.833944Z"
    },
    "papermill": {
     "duration": 0.021554,
     "end_time": "2023-05-24T17:02:56.837548",
     "exception": false,
     "start_time": "2023-05-24T17:02:56.815994",
     "status": "completed"
    },
    "tags": []
   },
   "outputs": [
    {
     "data": {
      "text/html": [
       "<div>\n",
       "<style scoped>\n",
       "    .dataframe tbody tr th:only-of-type {\n",
       "        vertical-align: middle;\n",
       "    }\n",
       "\n",
       "    .dataframe tbody tr th {\n",
       "        vertical-align: top;\n",
       "    }\n",
       "\n",
       "    .dataframe thead th {\n",
       "        text-align: right;\n",
       "    }\n",
       "</style>\n",
       "<table border=\"1\" class=\"dataframe\">\n",
       "  <thead>\n",
       "    <tr style=\"text-align: right;\">\n",
       "      <th></th>\n",
       "      <th>name</th>\n",
       "      <th>age</th>\n",
       "    </tr>\n",
       "  </thead>\n",
       "  <tbody>\n",
       "    <tr>\n",
       "      <th>0</th>\n",
       "      <td>my name is ....</td>\n",
       "      <td>my age is.....</td>\n",
       "    </tr>\n",
       "  </tbody>\n",
       "</table>\n",
       "</div>"
      ],
      "text/plain": [
       "              name             age\n",
       "0  my name is ....  my age is....."
      ]
     },
     "execution_count": 4,
     "metadata": {},
     "output_type": "execute_result"
    }
   ],
   "source": [
    "pd.DataFrame({'name':['my name is ....'],'age':['my age is.....']})"
   ]
  },
  {
   "cell_type": "markdown",
   "id": "c16ceb59",
   "metadata": {
    "papermill": {
     "duration": 0.004288,
     "end_time": "2023-05-24T17:02:56.847440",
     "exception": false,
     "start_time": "2023-05-24T17:02:56.843152",
     "status": "completed"
    },
    "tags": []
   },
   "source": [
    "like a dictionary,keys are col names and values are list of entries.\n",
    "\n",
    "dictinary-list constructor assigns values to col labels (0,1,2,3...) by default for row labels**index**."
   ]
  },
  {
   "cell_type": "code",
   "execution_count": 5,
   "id": "f5920774",
   "metadata": {
    "execution": {
     "iopub.execute_input": "2023-05-24T17:02:56.858367Z",
     "iopub.status.busy": "2023-05-24T17:02:56.857964Z",
     "iopub.status.idle": "2023-05-24T17:02:57.218978Z",
     "shell.execute_reply": "2023-05-24T17:02:57.216932Z"
    },
    "papermill": {
     "duration": 0.369155,
     "end_time": "2023-05-24T17:02:57.221078",
     "exception": true,
     "start_time": "2023-05-24T17:02:56.851923",
     "status": "failed"
    },
    "tags": []
   },
   "outputs": [
    {
     "ename": "NameError",
     "evalue": "name 'age' is not defined",
     "output_type": "error",
     "traceback": [
      "\u001b[0;31m---------------------------------------------------------------------------\u001b[0m",
      "\u001b[0;31mNameError\u001b[0m                                 Traceback (most recent call last)",
      "Cell \u001b[0;32mIn[5], line 1\u001b[0m\n\u001b[0;32m----> 1\u001b[0m pd\u001b[38;5;241m.\u001b[39mDataFrame({\u001b[38;5;124m'\u001b[39m\u001b[38;5;124mname\u001b[39m\u001b[38;5;124m'\u001b[39m:[\u001b[38;5;124m'\u001b[39m\u001b[38;5;124manshu\u001b[39m\u001b[38;5;124m'\u001b[39m,\u001b[38;5;124m'\u001b[39m\u001b[38;5;124mraj\u001b[39m\u001b[38;5;124m'\u001b[39m,\u001b[38;5;124m'\u001b[39m\u001b[38;5;124mram\u001b[39m\u001b[38;5;124m'\u001b[39m],\u001b[43mage\u001b[49m:[\u001b[38;5;241m20\u001b[39m]\n\u001b[1;32m      2\u001b[0m              },\n\u001b[1;32m      3\u001b[0m             index\u001b[38;5;241m=\u001b[39m[\u001b[38;5;124m'\u001b[39m\u001b[38;5;124mperson1\u001b[39m\u001b[38;5;124m'\u001b[39m,person2])\n",
      "\u001b[0;31mNameError\u001b[0m: name 'age' is not defined"
     ]
    }
   ],
   "source": [
    "pd.DataFrame({'name':['anshu','raj','ram'],age:[20]\n",
    "             },\n",
    "            index=['person1',person2])"
   ]
  },
  {
   "cell_type": "markdown",
   "id": "4720d620",
   "metadata": {
    "papermill": {
     "duration": null,
     "end_time": null,
     "exception": null,
     "start_time": null,
     "status": "pending"
    },
    "tags": []
   },
   "source": [
    "---------------------------------------------------------------------------\n",
    "NameError                                 Traceback (most recent call last)\n",
    "Cell In[4], line 1\n",
    "----> 1 pd.DataFrame({'name':['anshu','raj','ram'],age:[20]\n",
    "      2              },\n",
    "      3             index=['person1',person2])\n",
    "\n",
    "NameError: name 'age' is not defined"
   ]
  },
  {
   "cell_type": "code",
   "execution_count": null,
   "id": "61b9024f",
   "metadata": {
    "_kg_hide-input": false,
    "_kg_hide-output": false,
    "execution": {
     "iopub.execute_input": "2023-05-24T16:39:18.390676Z",
     "iopub.status.busy": "2023-05-24T16:39:18.390271Z",
     "iopub.status.idle": "2023-05-24T16:39:19.209038Z",
     "shell.execute_reply": "2023-05-24T16:39:19.207604Z",
     "shell.execute_reply.started": "2023-05-24T16:39:18.390620Z"
    },
    "papermill": {
     "duration": null,
     "end_time": null,
     "exception": null,
     "start_time": null,
     "status": "pending"
    },
    "tags": []
   },
   "outputs": [],
   "source": [
    "pd.DataFrame({'name':['anshu','raj','ram'],'age':[20]\n",
    "             },\n",
    "            index=['person1','person2'])"
   ]
  },
  {
   "cell_type": "markdown",
   "id": "49c46172",
   "metadata": {
    "papermill": {
     "duration": null,
     "end_time": null,
     "exception": null,
     "start_time": null,
     "status": "pending"
    },
    "tags": []
   },
   "source": [
    "error ValueError: Length of values (3) does not match length of index (2)"
   ]
  },
  {
   "cell_type": "markdown",
   "id": "62dbe8ea",
   "metadata": {
    "papermill": {
     "duration": null,
     "end_time": null,
     "exception": null,
     "start_time": null,
     "status": "pending"
    },
    "tags": []
   },
   "source": [
    "             **                   **Series**                **\n",
    "Series is a sequence of data values.\n",
    "if dataframe is a table then series is list.\n",
    "is a single col of dataframe.\n",
    "assign row labels using **index** parameter.\n",
    "does not have a column name, it only has one overall name\n",
    "             "
   ]
  },
  {
   "cell_type": "code",
   "execution_count": null,
   "id": "44d53404",
   "metadata": {
    "execution": {
     "iopub.execute_input": "2023-05-24T16:44:00.087022Z",
     "iopub.status.busy": "2023-05-24T16:44:00.086549Z",
     "iopub.status.idle": "2023-05-24T16:44:00.095485Z",
     "shell.execute_reply": "2023-05-24T16:44:00.094346Z",
     "shell.execute_reply.started": "2023-05-24T16:44:00.086986Z"
    },
    "papermill": {
     "duration": null,
     "end_time": null,
     "exception": null,
     "start_time": null,
     "status": "pending"
    },
    "tags": []
   },
   "outputs": [],
   "source": [
    "pd.Series([10,20,30])"
   ]
  },
  {
   "cell_type": "code",
   "execution_count": null,
   "id": "5c9f45ad",
   "metadata": {
    "execution": {
     "iopub.execute_input": "2023-05-24T16:47:29.267117Z",
     "iopub.status.busy": "2023-05-24T16:47:29.266738Z",
     "iopub.status.idle": "2023-05-24T16:47:29.275535Z",
     "shell.execute_reply": "2023-05-24T16:47:29.274624Z",
     "shell.execute_reply.started": "2023-05-24T16:47:29.267091Z"
    },
    "papermill": {
     "duration": null,
     "end_time": null,
     "exception": null,
     "start_time": null,
     "status": "pending"
    },
    "tags": []
   },
   "outputs": [],
   "source": [
    "pd.Series([10,20,30],index=['1 sale','2 sale','3 sale'])"
   ]
  },
  {
   "cell_type": "code",
   "execution_count": null,
   "id": "cf48515d",
   "metadata": {
    "execution": {
     "iopub.execute_input": "2023-05-24T16:49:07.593393Z",
     "iopub.status.busy": "2023-05-24T16:49:07.593008Z",
     "iopub.status.idle": "2023-05-24T16:49:07.604250Z",
     "shell.execute_reply": "2023-05-24T16:49:07.603194Z",
     "shell.execute_reply.started": "2023-05-24T16:49:07.593358Z"
    },
    "papermill": {
     "duration": null,
     "end_time": null,
     "exception": null,
     "start_time": null,
     "status": "pending"
    },
    "tags": []
   },
   "outputs": [],
   "source": [
    "pd.Series([10,20,30],\n",
    "          index=['1 sale','2 sale','3 sale'],\n",
    "          name='Series name')"
   ]
  },
  {
   "cell_type": "markdown",
   "id": "729470a6",
   "metadata": {
    "papermill": {
     "duration": null,
     "end_time": null,
     "exception": null,
     "start_time": null,
     "status": "pending"
    },
    "tags": []
   },
   "source": [
    "readind from csv file    ---- \"Comma-Separated Values\", or CSV."
   ]
  },
  {
   "cell_type": "code",
   "execution_count": null,
   "id": "1246922d",
   "metadata": {
    "execution": {
     "iopub.execute_input": "2023-05-24T16:51:52.332510Z",
     "iopub.status.busy": "2023-05-24T16:51:52.332119Z",
     "iopub.status.idle": "2023-05-24T16:51:52.380959Z",
     "shell.execute_reply": "2023-05-24T16:51:52.379278Z",
     "shell.execute_reply.started": "2023-05-24T16:51:52.332480Z"
    },
    "papermill": {
     "duration": null,
     "end_time": null,
     "exception": null,
     "start_time": null,
     "status": "pending"
    },
    "tags": []
   },
   "outputs": [],
   "source": [
    "pd.read_csv()"
   ]
  },
  {
   "cell_type": "markdown",
   "id": "b5585c98",
   "metadata": {
    "papermill": {
     "duration": null,
     "end_time": null,
     "exception": null,
     "start_time": null,
     "status": "pending"
    },
    "tags": []
   },
   "source": [
    "****shape**** attribute to check how large the resulting DataFrame \n",
    " **filename.shape**  output --(no of records,no of col)\n",
    " \n",
    "  **filename.head()** displays whole content"
   ]
  },
  {
   "cell_type": "markdown",
   "id": "fbb797de",
   "metadata": {
    "papermill": {
     "duration": null,
     "end_time": null,
     "exception": null,
     "start_time": null,
     "status": "pending"
    },
    "tags": []
   },
   "source": []
  },
  {
   "cell_type": "markdown",
   "id": "6003553e",
   "metadata": {
    "papermill": {
     "duration": null,
     "end_time": null,
     "exception": null,
     "start_time": null,
     "status": "pending"
    },
    "tags": []
   },
   "source": [
    "column for the index we can specify an **index_col**.\n",
    "\n",
    "\n",
    "\n",
    "filename=pd.read_csv(\".....\",index_col=0)\n",
    "filename.head()"
   ]
  },
  {
   "cell_type": "code",
   "execution_count": null,
   "id": "ed81d6fb",
   "metadata": {
    "papermill": {
     "duration": null,
     "end_time": null,
     "exception": null,
     "start_time": null,
     "status": "pending"
    },
    "tags": []
   },
   "outputs": [],
   "source": []
  }
 ],
 "metadata": {
  "kernelspec": {
   "display_name": "Python 3",
   "language": "python",
   "name": "python3"
  },
  "language_info": {
   "codemirror_mode": {
    "name": "ipython",
    "version": 3
   },
   "file_extension": ".py",
   "mimetype": "text/x-python",
   "name": "python",
   "nbconvert_exporter": "python",
   "pygments_lexer": "ipython3",
   "version": "3.10.10"
  },
  "papermill": {
   "default_parameters": {},
   "duration": 12.336441,
   "end_time": "2023-05-24T17:02:59.889359",
   "environment_variables": {},
   "exception": true,
   "input_path": "__notebook__.ipynb",
   "output_path": "__notebook__.ipynb",
   "parameters": {},
   "start_time": "2023-05-24T17:02:47.552918",
   "version": "2.4.0"
  }
 },
 "nbformat": 4,
 "nbformat_minor": 5
}
